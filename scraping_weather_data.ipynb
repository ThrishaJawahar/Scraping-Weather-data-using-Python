{
  "nbformat": 4,
  "nbformat_minor": 0,
  "metadata": {
    "colab": {
      "provenance": [],
      "authorship_tag": "ABX9TyMN6eVsdV5DTmVwTHFFe1q1",
      "include_colab_link": true
    },
    "kernelspec": {
      "name": "python3",
      "display_name": "Python 3"
    },
    "language_info": {
      "name": "python"
    }
  },
  "cells": [
    {
      "cell_type": "markdown",
      "metadata": {
        "id": "view-in-github",
        "colab_type": "text"
      },
      "source": [
        "<a href=\"https://colab.research.google.com/github/ThrishaJawahar/Scraping-Weather-data-using-Python/blob/main/scraping_weather_data.ipynb\" target=\"_parent\"><img src=\"https://colab.research.google.com/assets/colab-badge.svg\" alt=\"Open In Colab\"/></a>"
      ]
    },
    {
      "cell_type": "code",
      "execution_count": null,
      "metadata": {
        "colab": {
          "base_uri": "https://localhost:8080/"
        },
        "id": "OKMC7Iyq_Xqj",
        "outputId": "705a6a3c-0c27-4f0f-bbf1-f1b86ded23e1"
      },
      "outputs": [
        {
          "output_type": "stream",
          "name": "stdout",
          "text": [
            "Collecting bs4\n",
            "  Downloading bs4-0.0.2-py2.py3-none-any.whl.metadata (411 bytes)\n",
            "Requirement already satisfied: beautifulsoup4 in /usr/local/lib/python3.10/dist-packages (from bs4) (4.12.3)\n",
            "Requirement already satisfied: soupsieve>1.2 in /usr/local/lib/python3.10/dist-packages (from beautifulsoup4->bs4) (2.6)\n",
            "Downloading bs4-0.0.2-py2.py3-none-any.whl (1.2 kB)\n",
            "Installing collected packages: bs4\n",
            "Successfully installed bs4-0.0.2\n"
          ]
        }
      ],
      "source": [
        "pip install bs4"
      ]
    },
    {
      "cell_type": "code",
      "source": [
        "pip install requests\n"
      ],
      "metadata": {
        "colab": {
          "base_uri": "https://localhost:8080/"
        },
        "id": "F8xnvtsUDs9R",
        "outputId": "1a50563d-8c2a-4fd7-d7c1-ddad15f0e174"
      },
      "execution_count": null,
      "outputs": [
        {
          "output_type": "stream",
          "name": "stdout",
          "text": [
            "Requirement already satisfied: requests in /usr/local/lib/python3.10/dist-packages (2.32.3)\n",
            "Requirement already satisfied: charset-normalizer<4,>=2 in /usr/local/lib/python3.10/dist-packages (from requests) (3.3.2)\n",
            "Requirement already satisfied: idna<4,>=2.5 in /usr/local/lib/python3.10/dist-packages (from requests) (3.7)\n",
            "Requirement already satisfied: urllib3<3,>=1.21.1 in /usr/local/lib/python3.10/dist-packages (from requests) (2.0.7)\n",
            "Requirement already satisfied: certifi>=2017.4.17 in /usr/local/lib/python3.10/dist-packages (from requests) (2024.7.4)\n"
          ]
        }
      ]
    },
    {
      "cell_type": "code",
      "source": [
        "!pip install smtplib"
      ],
      "metadata": {
        "colab": {
          "base_uri": "https://localhost:8080/"
        },
        "id": "M0l8oiyeD1IH",
        "outputId": "0dae5c07-0c22-4c64-ae2a-89a09c2159c6"
      },
      "execution_count": 1,
      "outputs": [
        {
          "output_type": "stream",
          "name": "stdout",
          "text": [
            "\u001b[31mERROR: Could not find a version that satisfies the requirement smtplib (from versions: none)\u001b[0m\u001b[31m\n",
            "\u001b[0m\u001b[31mERROR: No matching distribution found for smtplib\u001b[0m\u001b[31m\n",
            "\u001b[0m"
          ]
        }
      ]
    },
    {
      "cell_type": "code",
      "source": [
        "import smtplib"
      ],
      "metadata": {
        "id": "hsljNLv3EYIF"
      },
      "execution_count": null,
      "outputs": []
    },
    {
      "cell_type": "code",
      "source": [
        "pip install schedule"
      ],
      "metadata": {
        "colab": {
          "base_uri": "https://localhost:8080/"
        },
        "id": "4rtQFFQ_Efj3",
        "outputId": "b04d2fc5-d7fd-4789-a1ce-7919a6526adc"
      },
      "execution_count": null,
      "outputs": [
        {
          "output_type": "stream",
          "name": "stdout",
          "text": [
            "Collecting schedule\n",
            "  Downloading schedule-1.2.2-py3-none-any.whl.metadata (3.8 kB)\n",
            "Downloading schedule-1.2.2-py3-none-any.whl (12 kB)\n",
            "Installing collected packages: schedule\n",
            "Successfully installed schedule-1.2.2\n"
          ]
        }
      ]
    },
    {
      "cell_type": "code",
      "source": [
        "import schedule"
      ],
      "metadata": {
        "id": "jssontGkEx4M"
      },
      "execution_count": null,
      "outputs": []
    },
    {
      "cell_type": "code",
      "source": [
        "import requests\n",
        "from bs4 import BeautifulSoup"
      ],
      "metadata": {
        "id": "DVqo_vzpE5HI"
      },
      "execution_count": null,
      "outputs": []
    },
    {
      "cell_type": "code",
      "source": [
        "def umbrellaReminder():\n",
        "  city = \"Chennai\"\n",
        "  url = \"https://www.google.com/search?q=\" + \"weather\" + city\n",
        "  html = requests.get(url).content\n"
      ],
      "metadata": {
        "id": "VtiXWZrrFInz"
      },
      "execution_count": null,
      "outputs": []
    },
    {
      "cell_type": "code",
      "source": [
        "soup = BeautifulSoup(html,\n",
        "\t\t\t\t\t'html.parser')\n",
        "temperature = soup.find(\n",
        "'div', attrs={'class': 'BNeawe iBp4i AP7Wnd'}).text\n",
        "time_sky = soup.find(\n",
        "'div', attrs={'class': 'BNeawe tAd8D AP7Wnd'}).text\n",
        "\n",
        "# formatting data\n",
        "sky = time_sky.split('\\n')[1]\n"
      ],
      "metadata": {
        "id": "0serYYXoFYjj"
      },
      "execution_count": null,
      "outputs": []
    },
    {
      "cell_type": "code",
      "source": [
        "if sky == \"Rainy\" or sky == \"Rain And Snow\" or sky == \"Showers\" or sky == \"Haze\" or sky == \"Cloudy\":\n",
        "\tsmtp_object = smtplib.SMTP('smtp.gmail.com', 587)\n"
      ],
      "metadata": {
        "id": "7hOxHI4iFa0e"
      },
      "execution_count": null,
      "outputs": []
    },
    {
      "cell_type": "code",
      "source": [
        "import smtplib\n",
        "\n",
        "# Start TLS for security\n",
        "# Ensure connection is established before calling starttls()\n",
        "smtp_object = smtplib.SMTP('smtp.gmail.com', 587)\n",
        "smtp_object.ehlo() # Send EHLO command to initiate handshake\n",
        "smtp_object.starttls()\n",
        "\n",
        "# Authentication\n",
        "smtp_object.login(\"thrishajawahar@gmail.com\", \"ajqo vuwy cpsz ybyq\")\n",
        "\n",
        "subject = \"Umbrella Reminder\"\n",
        "body = f\"Take an umbrella before leaving the house.\\nWeather condition for today is {sky}, and temperature is {temperature} in {city}.\\nHave a nice day, drink lots of water\"\n",
        "msg = f\"Subject:{subject}\\n\\n{body}\\n\\nRegards,\\nThrisha Jawahar\".encode('utf-8')\n",
        "\n",
        "# Sending the mail\n",
        "smtp_object.sendmail(\"thrishajawahar@gmail.com\", \"lavanyaraja.x@gmail.com\", msg)\n",
        "\n",
        "# Terminating the session\n",
        "smtp_object.quit()\n",
        "\n",
        "print(\"Email Sent!\")"
      ],
      "metadata": {
        "colab": {
          "base_uri": "https://localhost:8080/"
        },
        "id": "9FNs4gTmI55g",
        "outputId": "e33e050a-95be-4233-f14a-d7b19d1a4db4"
      },
      "execution_count": null,
      "outputs": [
        {
          "output_type": "stream",
          "name": "stdout",
          "text": [
            "Email Sent!\n"
          ]
        }
      ]
    }
  ]
}